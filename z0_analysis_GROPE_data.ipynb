{
 "cells": [
  {
   "cell_type": "code",
   "execution_count": 0,
   "metadata": {
    "collapsed": false
   },
   "outputs": [
   ],
   "source": [
    "import numpy as np\n",
    "import matplotlib.pyplot as plt\n",
    "import mplhep\n",
    "import pandas as pd"
   ]
  },
  {
   "cell_type": "code",
   "execution_count": 0,
   "metadata": {
    "collapsed": false
   },
   "outputs": [
   ],
   "source": [
    "def read_data(filepath):\n",
    "    '''Read a csv file using pandas.'''\n",
    "    df = pd.read_csv(filepath)\n",
    "    return df"
   ]
  },
  {
   "cell_type": "code",
   "execution_count": 0,
   "metadata": {
    "collapsed": false
   },
   "outputs": [
   ],
   "source": [
    "# import data files\n",
    "file_ee = 'Grope_Data/Grope_ee.csv'\n",
    "file_mm = 'Grope_Data/Grope_mm.csv'\n",
    "file_tt = 'Grope_Data/Grope_tt.csv'\n",
    "file_qq = 'Grope_Data/Grope_qq.csv'\n",
    "\n",
    "# conversion to pandas dataframe\n",
    "df_ee = read_data(file_ee)\n",
    "df_mm = read_data(file_mm)\n",
    "df_tt = read_data(file_tt)\n",
    "df_qq = read_data(file_qq)"
   ]
  },
  {
   "cell_type": "code",
   "execution_count": 0,
   "metadata": {
    "collapsed": false
   },
   "outputs": [
   ],
   "source": [
    "bins = {'Ctrk(N)' : np.linspace(0, 60, 21),\n",
    "        'Ctrk(Sump)' : np.linspace(0, 100, 21),\n",
    "        'Ecal(SumE)' : np.linspace(0, 120, 21),\n",
    "        'Hcal(SumE)' : np.linspace(0, 100, 21),\n",
    "        'Muon(N)' : np.linspace(0, 5, 6)}\n",
    "\n",
    "plt.style.use(mplhep.style.ATLAS) # ATLAS/CMS/ALICE plot style\n",
    "\n",
    "fig, axes = plt.subplots(1, 5, figsize=(28, 5))\n",
    "\n",
    "variables = ['Ctrk(N)', 'Ctrk(Sump)', 'Ecal(SumE)', 'Hcal(SumE)', 'Muon(N)']\n",
    "units = ['', ' [GeV]', ' [GeV]', ' [GeV]', '']\n",
    "\n",
    "\n",
    "for (i, variable, unit) in zip(range(5), variables, units):\n",
    "    axes[i].hist(df_ee[variable], bins=bins[variable], label=r'$e$',\n",
    "                histtype='step',  linewidth=2, hatch='/')\n",
    "    axes[i].hist(df_mm[variable], bins=bins[variable], label=r'$\\mu$',\n",
    "                histtype='step',  linewidth=2, hatch='/')\n",
    "    axes[i].hist(df_tt[variable], bins=bins[variable], label=r'$\\tau$',\n",
    "                histtype='step',  linewidth=2, hatch='/')\n",
    "    axes[i].hist(df_qq[variable], bins=bins[variable], label=r'$q$',\n",
    "                histtype='step',  linewidth=2, hatch='/')\n",
    "\n",
    "    axes[i].set_title(variable)\n",
    "    axes[i].set_xlabel(variable + unit)\n",
    "    axes[i].set_ylabel(r'# events $N$')\n",
    "\n",
    "    axes[i].legend()\n",
    "\n",
    "plt.tight_layout()\n",
    "plt.show()"
   ]
  },
  {
   "cell_type": "markdown",
   "metadata": {
    "collapsed": false
   },
   "source": [
    "## First guesses:\n",
    "\n",
    "#### CTRK(N):\n",
    "-  2 <= ee <=  8\n",
    "-  2 <= mm <=  8\n",
    "-  2 <= tt <=  8\n",
    "- 18 <= qq <= 60\n",
    "\n",
    "### Ctrk(Sump):\n",
    "- 0=ee and 35 <= ee <= 95\n",
    "- 80 <= mm <= 107\n",
    "-  0 <= tt <=  74 and 92 <= tt <= 100\n",
    "- 13 <= qq <= 80\n",
    "\n",
    "### Ecal(SumE):\n",
    "- 55 <= ee <= 105\n",
    "-  0 <= mm <= 8\n",
    "-  0 <= tt <= 75\n",
    "- 24 <= qq <= 73\n",
    "\n",
    "\n",
    "### Hcal(SumE):\n",
    "- 0 <= ee <= 15\n",
    "- 0 <= mm <= 20\n",
    "- 0 <= tt <= 20\n",
    "- 0 <= qq <= 45\n",
    "\n",
    "### Muon(N):\n",
    "- 0 = ee\n",
    "- 1 <= mm <= 4\n",
    "- 0 <= tt <= 1\n",
    "- 0 <= qq <= 2\n",
    "\n"
   ]
  }
 ],
 "metadata": {
  "kernelspec": {
   "display_name": "Python 3 (ROOT)",
   "language": "python",
   "name": "python3-root",
   "resource_dir": "/usr/local/share/jupyter/kernels/python3-root"
  },
  "language_info": {
   "codemirror_mode": {
    "name": "ipython",
    "version": 3
   },
   "file_extension": ".py",
   "mimetype": "text/x-python",
   "name": "python",
   "nbconvert_exporter": "python",
   "pygments_lexer": "ipython3",
   "version": "3.8.5"
  }
 },
 "nbformat": 4,
 "nbformat_minor": 4
}